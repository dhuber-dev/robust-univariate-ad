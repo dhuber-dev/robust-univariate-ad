{
 "nbformat": 4,
 "nbformat_minor": 0,
 "metadata": {
  "colab": {
   "provenance": [],
   "authorship_tag": "ABX9TyPOid6oeUwzgWx4fC4h/xNe"
  },
  "kernelspec": {
   "name": "python3",
   "display_name": "Python 3 (ipykernel)",
   "language": "python"
  },
  "language_info": {
   "name": "python"
  }
 },
 "cells": [
  {
   "cell_type": "markdown",
   "source": [
    "# Preprocessing & Analysis of TSAD Evaluation Results\n",
    "\n",
    "This notebook processes the performance results of the research paper:\n",
    "Schmidl, S., Wenig, P., & Papenbrock, T. (2022). Anomaly detection in time series: A comprehensive evaluation. Proceedings of the VLDB Endowment, 15(9), 1779–1797. https://doi.org/10.14778/3538598.3538602\n",
    "https://timeeval.github.io/evaluation-paper/\n",
    "\n",
    "Purpose:\n",
    "- To limit the results to the specific scope of this research.\n",
    "- To perform data extraction, filtering, and analysis as required.\n",
    "\n",
    "Author: Dennis Huber\n",
    "\n",
    "Date: 09.07.2024\n",
    "\n",
    "Usage:\n",
    "- Download the evaluation results of the paper. Their data can be found here https://my.hidrive.com/share/ma4p8w4qqb#$/. You will need:\n",
    "    - tsad-evaluation-results.csv\n",
    "    - GutenTAG.zip/overview.yaml\n",
    "- Ensure that the data files are correctly specified in the following codeblock, when reading."
   ],
   "metadata": {
    "id": "n7s3qyq_SENp"
   }
  },
  {
   "metadata": {
    "ExecuteTime": {
     "end_time": "2024-07-24T08:27:42.132152Z",
     "start_time": "2024-07-24T08:27:42.125002Z"
    }
   },
   "cell_type": "code",
   "source": [
    "# Specify your file locations here, if changed\n",
    "TSAD_EVALUATION_RESULTS = 'datasets/tsad-evaluation-results.csv'\n",
    "OVERVIEW_FILE = 'datasets/overview.yaml'"
   ],
   "outputs": [],
   "execution_count": 1
  },
  {
   "cell_type": "code",
   "metadata": {
    "id": "tQpLC5ZkR6Bc",
    "executionInfo": {
     "status": "ok",
     "timestamp": 1720524067175,
     "user_tz": -120,
     "elapsed": 1035,
     "user": {
      "displayName": "Dennis Huber",
      "userId": "11497794793291520998"
     }
    },
    "ExecuteTime": {
     "end_time": "2024-07-24T08:27:44.718506Z",
     "start_time": "2024-07-24T08:27:42.140137Z"
    }
   },
   "source": [
    "import pandas as pd\n",
    "df_org = pd.read_csv(TSAD_EVALUATION_RESULTS)"
   ],
   "outputs": [],
   "execution_count": 2
  },
  {
   "cell_type": "markdown",
   "source": [
    "## 1. Filter\n",
    "This research only focuses on **univariate** datasets and algorithms that:\n",
    "- are **unsupervised** or **semi-supervised**\n",
    "- that run **without error**"
   ],
   "metadata": {
    "id": "N9TSG_ch_FJm"
   }
  },
  {
   "metadata": {
    "ExecuteTime": {
     "end_time": "2024-07-24T08:27:44.825734Z",
     "start_time": "2024-07-24T08:27:44.720497Z"
    }
   },
   "cell_type": "code",
   "source": [
    "def print_filter_result(original_set, subset, filter_type):\n",
    "    \"\"\"Prints the results of applying a filter to a dataset for verification.\n",
    "\n",
    "    :param original_set: The original dataset containing the complete set of algorithms.\n",
    "    :type original_set: pd.DataFrame\n",
    "    :param subset: The filtered subset of the dataset after applying the filter.\n",
    "    :type subset: pd.DataFrame\n",
    "    :param filter_type: A description of the filter used, which will be included in the output to specify which filter caused the exclusions.\n",
    "    :type filter_type: str\n",
    "\n",
    "    :returns: None. This function prints the results directly to the console.\n",
    "    \"\"\"\n",
    "    eliminated_elements = set(subset.algorithm).difference(set(original_set.algorithm))\n",
    "    \n",
    "    # Set is empty\n",
    "    if not eliminated_elements:\n",
    "        print(f\"No algorithm was excluded by {filter_type}-Filter.\")\n",
    "    else:\n",
    "        print(f\"Algorithms excluded due to {filter_type}-Filter: \\n\")\n",
    "    for e in eliminated_elements:\n",
    "      print(f\" - {e}\\n\")\n",
    "    \n",
    "    print(f\"{original_set.shape[0] - subset.shape[0]} Dataset entries deleted.\")"
   ],
   "outputs": [],
   "execution_count": 3
  },
  {
   "cell_type": "markdown",
   "source": [
    "### 1.1 Filter Algorithms with errors"
   ],
   "metadata": {
    "id": "uSnqIvukRFrF"
   }
  },
  {
   "cell_type": "code",
   "source": [
    "df_error_free = df_org.loc[df_org.error_category == \"- OK -\"]\n",
    "print_filter_result(df_org, df_error_free, 'Error')"
   ],
   "metadata": {
    "colab": {
     "base_uri": "https://localhost:8080/"
    },
    "id": "aCFEkm5U_NBb",
    "executionInfo": {
     "status": "ok",
     "timestamp": 1720524101311,
     "user_tz": -120,
     "elapsed": 41,
     "user": {
      "displayName": "Dennis Huber",
      "userId": "11497794793291520998"
     }
    },
    "outputId": "534d2ae8-4556-40c5-f0fa-792f3fdf9397",
    "ExecuteTime": {
     "end_time": "2024-07-24T08:27:44.956482Z",
     "start_time": "2024-07-24T08:27:44.833713Z"
    }
   },
   "outputs": [
    {
     "name": "stdout",
     "output_type": "stream",
     "text": [
      "No algorithm was excluded by Error-Filter.\n",
      "5347 Dataset entries deleted.\n"
     ]
    }
   ],
   "execution_count": 4
  },
  {
   "cell_type": "markdown",
   "source": "### 1.2 Filter to Univariate Datasets and Algorithms",
   "metadata": {
    "id": "-WFNEkVbUICX"
   }
  },
  {
   "cell_type": "code",
   "source": [
    "df_uni_algo = df_error_free.loc[df_error_free.algo_input_dimensionality == \"UNIVARIATE\"]\n",
    "print_filter_result(df_error_free, df_uni_algo, 'Algorithm Input Dim.')\n",
    "\n",
    "df_uni_dataset = df_uni_algo.loc[df_uni_algo.dataset_input_dimensionality == \"UNIVARIATE\"]\n",
    "print_filter_result(df_uni_algo, df_uni_dataset, 'Dataset Input Dim.')"
   ],
   "metadata": {
    "colab": {
     "base_uri": "https://localhost:8080/"
    },
    "id": "TLMmUOGZRV9e",
    "executionInfo": {
     "status": "ok",
     "timestamp": 1720524101311,
     "user_tz": -120,
     "elapsed": 36,
     "user": {
      "displayName": "Dennis Huber",
      "userId": "11497794793291520998"
     }
    },
    "outputId": "1d43558f-8d54-460c-a0f4-07819704d5d6",
    "ExecuteTime": {
     "end_time": "2024-07-24T08:27:45.133006Z",
     "start_time": "2024-07-24T08:27:44.962463Z"
    }
   },
   "outputs": [
    {
     "name": "stdout",
     "output_type": "stream",
     "text": [
      "No algorithm was excluded by Algorithm Input Dim.-Filter.\n",
      "15853 Dataset entries deleted.\n",
      "No algorithm was excluded by Dataset Input Dim.-Filter.\n",
      "0 Dataset entries deleted.\n"
     ]
    }
   ],
   "execution_count": 5
  },
  {
   "cell_type": "markdown",
   "source": [
    "### 1.3 Filter to Supervised Datasets and Algorithms"
   ],
   "metadata": {
    "id": "5lXCPSnJVaxN"
   }
  },
  {
   "cell_type": "code",
   "source": [
    "df_usup_algo = df_uni_dataset.loc[df_uni_dataset.algo_training_type != \"SUPERVISED\"]\n",
    "df_usup_dataset = df_usup_algo.loc[df_usup_algo.dataset_training_type != \"SUPERVISED\"]\n",
    "\n",
    "print_filter_result(df_uni_dataset, df_usup_algo, 'Algorithm Training Type')\n",
    "print_filter_result(df_usup_algo, df_usup_dataset, 'Dataset Training Type')"
   ],
   "metadata": {
    "colab": {
     "base_uri": "https://localhost:8080/"
    },
    "id": "qWjgJSNCUFIw",
    "executionInfo": {
     "status": "ok",
     "timestamp": 1720524101311,
     "user_tz": -120,
     "elapsed": 33,
     "user": {
      "displayName": "Dennis Huber",
      "userId": "11497794793291520998"
     }
    },
    "outputId": "b4da4829-5c46-4a93-a405-738ced933c26",
    "ExecuteTime": {
     "end_time": "2024-07-24T08:27:45.292580Z",
     "start_time": "2024-07-24T08:27:45.140987Z"
    }
   },
   "outputs": [
    {
     "name": "stdout",
     "output_type": "stream",
     "text": [
      "No algorithm was excluded by Algorithm Training Type-Filter.\n",
      "0 Dataset entries deleted.\n",
      "No algorithm was excluded by Dataset Training Type-Filter.\n",
      "82 Dataset entries deleted.\n"
     ]
    }
   ],
   "execution_count": 6
  },
  {
   "metadata": {},
   "cell_type": "markdown",
   "source": "After applying all the filters we double check if no algorithm was deleted by comparing the original DataFrame with the last filter iteration"
  },
  {
   "cell_type": "code",
   "source": "print(set(df_usup_dataset.algorithm).difference(set(df_org.algorithm)))",
   "metadata": {
    "colab": {
     "base_uri": "https://localhost:8080/"
    },
    "id": "S8KtkQIMXQY6",
    "executionInfo": {
     "status": "ok",
     "timestamp": 1720524101312,
     "user_tz": -120,
     "elapsed": 30,
     "user": {
      "displayName": "Dennis Huber",
      "userId": "11497794793291520998"
     }
    },
    "outputId": "587f1004-eaa3-40be-e4fd-e67eafce2d82",
    "ExecuteTime": {
     "end_time": "2024-07-24T08:27:45.352933Z",
     "start_time": "2024-07-24T08:27:45.294574Z"
    }
   },
   "outputs": [
    {
     "name": "stdout",
     "output_type": "stream",
     "text": [
      "set()\n"
     ]
    }
   ],
   "execution_count": 7
  },
  {
   "metadata": {},
   "cell_type": "markdown",
   "source": "There is no difference in algorithms, so no algorithm was deleted - only instances. Now we check how many instances were deleted in order to see the amount of evaluation results left for analyiss "
  },
  {
   "metadata": {
    "ExecuteTime": {
     "end_time": "2024-07-24T08:27:45.430747Z",
     "start_time": "2024-07-24T08:27:45.355435Z"
    }
   },
   "cell_type": "code",
   "source": "print(f\"{df_org.shape[0] - df_usup_dataset.shape[0]} of {df_org.shape[0]} deleted, {df_usup_dataset.shape[0]} remaining. {df_usup_dataset.shape[0] / df_org.shape[0] * 100}% of original size.\")",
   "outputs": [
    {
     "name": "stdout",
     "output_type": "stream",
     "text": [
      "21282 of 45131 deleted, 23849 remaining. 52.8439431876094% of original size.\n"
     ]
    }
   ],
   "execution_count": 8
  },
  {
   "cell_type": "markdown",
   "source": [
    "### Result of Filtering\n",
    "We conclude\n",
    "- No algorithm is excluded by following this filtering method\n",
    "- 47% of the original evaluation results were deleted"
   ],
   "metadata": {
    "id": "1Np-vKt7W3aD"
   }
  },
  {
   "metadata": {
    "ExecuteTime": {
     "end_time": "2024-07-24T08:27:45.497934Z",
     "start_time": "2024-07-24T08:27:45.435245Z"
    }
   },
   "cell_type": "code",
   "source": "df = df_usup_dataset.copy()",
   "outputs": [],
   "execution_count": 9
  },
  {
   "metadata": {},
   "cell_type": "markdown",
   "source": [
    "## 2. Augment Evaluation Results with additional Information\n",
    "\n",
    "The authors provide more information about the used datasets in evaluation. Such information is important for further analysis, which is why we simply add it to the evaluation results table. The algorithms were evaluated on real data from different datasets and on synthetic data, generated by their own GutenTAG library. In order to get a better sense for the effect of different anomaly types, we add information to the synthetic dataset. For each instance that was evaluated on the synthetic dataset, we want to know:\n",
    "- does the data contain more than one type of anomaly (e.g. trend and threshold)\n",
    "- If only one type appears, what anomaly type is it.\n",
    "\n",
    "By doing so we can compare and analyze the evaluation results yielded on one specific type of anomaly. Since in this case the data is synthetic we can formulate theses on their effect (e.g. does a certain algorithm excel on a certain anomaly type)"
   ]
  },
  {
   "metadata": {
    "ExecuteTime": {
     "end_time": "2024-07-24T08:27:46.761076Z",
     "start_time": "2024-07-24T08:27:45.499924Z"
    }
   },
   "cell_type": "code",
   "source": [
    "import yaml\n",
    "\n",
    "with open(OVERVIEW_FILE, 'r') as file:\n",
    "    metadata_raw = yaml.load(file, Loader=yaml.FullLoader)\n",
    "    \n",
    "# Initialize an empty list to store the information\n",
    "collected_data = []\n",
    "\n",
    "# Iterate through each element in 'generated-timeseries'\n",
    "for el in metadata_raw['generated-timeseries']:\n",
    "    name = el['name']\n",
    "    anomalies = el['anomalies']\n",
    "    collected_data.append({\n",
    "            \"name\": name,\n",
    "            \"anomaly_kind\": [anomaly['kinds'][0]['kind'] for anomaly in anomalies]\n",
    "    })\n",
    "\n",
    "\n",
    "# Convert the list of dictionaries to a DataFrame\n",
    "metadata = pd.DataFrame(collected_data)\n",
    "metadata[\"num_anomalies\"] = metadata.anomaly_kind.apply(len) # number of anomalies in dataset\n",
    "metadata[\"unique_anomaly_type\"] = metadata.anomaly_kind.apply(lambda x: len(set(x)) == 1)\n",
    "\n",
    "metadata[\"unique_anomaly_type\"].value_counts(normalize=True)"
   ],
   "outputs": [
    {
     "data": {
      "text/plain": [
       "unique_anomaly_type\n",
       "True     0.761658\n",
       "False    0.238342\n",
       "Name: proportion, dtype: float64"
      ]
     },
     "execution_count": 10,
     "metadata": {},
     "output_type": "execute_result"
    }
   ],
   "execution_count": 10
  },
  {
   "metadata": {},
   "cell_type": "markdown",
   "source": "Within the synthetic GutenTAG dataset 76% contain only one type of anomaly (unique anomaly type)."
  },
  {
   "metadata": {
    "ExecuteTime": {
     "end_time": "2024-07-24T08:38:17.208781Z",
     "start_time": "2024-07-24T08:38:17.160474Z"
    }
   },
   "cell_type": "code",
   "source": [
    "# Add the metadata to the evaluation table (unique and multiple anomaly types)\n",
    "if set(metadata['name']) == set(metadata['name'].drop_duplicates()): # check if the 'name' column can be used as a mapping key (is unique for each instance)\n",
    "    df_agg = df.join(metadata.rename(columns={'name': 'dataset'}).set_index('dataset'), on='dataset')\n",
    "else:\n",
    "    raise ValueError('The name of the dataset is not unique and can not be used to map the metadata to the evaluation results.')\n",
    "\n",
    "df_agg.unique_anomaly_type.value_counts(dropna=False)"
   ],
   "outputs": [
    {
     "data": {
      "text/plain": [
       "unique_anomaly_type\n",
       "NaN      18600\n",
       "True      3932\n",
       "False     1317\n",
       "Name: count, dtype: int64"
      ]
     },
     "execution_count": 27,
     "metadata": {},
     "output_type": "execute_result"
    }
   ],
   "execution_count": 27
  },
  {
   "metadata": {},
   "cell_type": "markdown",
   "source": "The evaluation table now contains additional information about the instances of the synthetic GutenTAG dataset. The other instances are marked `NaN` since it is not yet clear if they have different anomaly types embedded."
  },
  {
   "metadata": {
    "ExecuteTime": {
     "end_time": "2024-07-24T08:53:22.688701Z",
     "start_time": "2024-07-24T08:53:22.445353Z"
    }
   },
   "cell_type": "code",
   "source": "df = df_agg.copy()",
   "outputs": [],
   "execution_count": 28
  },
  {
   "cell_type": "markdown",
   "source": [
    "# Hypothesis 1: Anomaly Nature and Characteristic influences Algorithm Performance\n",
    "\n",
    "We hypothesize that an algorithm's performance is affected by the type of anomaly it is trying to detect. Specifically, some could argue that algorithms with a smaller context size may have difficulty identifying anomalies that occur over longer periods (trend anomaly). This is because their limited view might not capture the extended patterns of these long-duration anomalies effectively.\n",
    "\n",
    "In order to test the hypothesis we:\n",
    "- Limit the evaluation results to the artificial \"GutenTag\" dataset \n",
    "- Only use evaluation result instances that were yielded on time-series with only one type of anomaly\n",
    "- Finally, we compare the anomaly type with performance, grouped by the algorithm family. For grouping we use the taxonomy of Schmidl, S., Wenig, P., & Papenbrock, T. (2022). We also rely on the authors proposal to use _Receiver Operating Characteristic Area Under the Curve_ (ROC_AUC) as a performance metric for comparison.\n",
    "\n",
    "**Finding:** Relevant influence"
   ],
   "metadata": {
    "id": "LkXWOCatAJkc"
   }
  },
  {
   "metadata": {
    "ExecuteTime": {
     "end_time": "2024-07-24T09:03:21.508869Z",
     "start_time": "2024-07-24T09:03:21.475592Z"
    }
   },
   "cell_type": "code",
   "source": "df_h1.head(1)",
   "outputs": [
    {
     "data": {
      "text/plain": [
       "  algorithm collection           dataset algo_training_type  \\\n",
       "2     ARIMA   GutenTAG  cbf-diff-count-1       UNSUPERVISED   \n",
       "\n",
       "  algo_input_dimensionality dataset_training_type  \\\n",
       "2                UNIVARIATE          UNSUPERVISED   \n",
       "\n",
       "  dataset_input_dimensionality  train_preprocess_time  train_main_time  \\\n",
       "2                   UNIVARIATE                    NaN              NaN   \n",
       "\n",
       "   execute_preprocess_time  ...  RANGE_PR_AUC  AVERAGE_PRECISION overall_time  \\\n",
       "2                      NaN  ...      0.016521           0.014368    72.992341   \n",
       "\n",
       "  error_category  algo_family                              algo_area  \\\n",
       "2         - OK -  forecasting  Statistics (Regression & Forecasting)   \n",
       "\n",
       "  algo_display_name  anomaly_kind  num_anomalies  unique_anomaly_type  \n",
       "2             ARIMA     [pattern]            1.0                 True  \n",
       "\n",
       "[1 rows x 29 columns]"
      ],
      "text/html": [
       "<div>\n",
       "<style scoped>\n",
       "    .dataframe tbody tr th:only-of-type {\n",
       "        vertical-align: middle;\n",
       "    }\n",
       "\n",
       "    .dataframe tbody tr th {\n",
       "        vertical-align: top;\n",
       "    }\n",
       "\n",
       "    .dataframe thead th {\n",
       "        text-align: right;\n",
       "    }\n",
       "</style>\n",
       "<table border=\"1\" class=\"dataframe\">\n",
       "  <thead>\n",
       "    <tr style=\"text-align: right;\">\n",
       "      <th></th>\n",
       "      <th>algorithm</th>\n",
       "      <th>collection</th>\n",
       "      <th>dataset</th>\n",
       "      <th>algo_training_type</th>\n",
       "      <th>algo_input_dimensionality</th>\n",
       "      <th>dataset_training_type</th>\n",
       "      <th>dataset_input_dimensionality</th>\n",
       "      <th>train_preprocess_time</th>\n",
       "      <th>train_main_time</th>\n",
       "      <th>execute_preprocess_time</th>\n",
       "      <th>...</th>\n",
       "      <th>RANGE_PR_AUC</th>\n",
       "      <th>AVERAGE_PRECISION</th>\n",
       "      <th>overall_time</th>\n",
       "      <th>error_category</th>\n",
       "      <th>algo_family</th>\n",
       "      <th>algo_area</th>\n",
       "      <th>algo_display_name</th>\n",
       "      <th>anomaly_kind</th>\n",
       "      <th>num_anomalies</th>\n",
       "      <th>unique_anomaly_type</th>\n",
       "    </tr>\n",
       "  </thead>\n",
       "  <tbody>\n",
       "    <tr>\n",
       "      <th>2</th>\n",
       "      <td>ARIMA</td>\n",
       "      <td>GutenTAG</td>\n",
       "      <td>cbf-diff-count-1</td>\n",
       "      <td>UNSUPERVISED</td>\n",
       "      <td>UNIVARIATE</td>\n",
       "      <td>UNSUPERVISED</td>\n",
       "      <td>UNIVARIATE</td>\n",
       "      <td>NaN</td>\n",
       "      <td>NaN</td>\n",
       "      <td>NaN</td>\n",
       "      <td>...</td>\n",
       "      <td>0.016521</td>\n",
       "      <td>0.014368</td>\n",
       "      <td>72.992341</td>\n",
       "      <td>- OK -</td>\n",
       "      <td>forecasting</td>\n",
       "      <td>Statistics (Regression &amp; Forecasting)</td>\n",
       "      <td>ARIMA</td>\n",
       "      <td>[pattern]</td>\n",
       "      <td>1.0</td>\n",
       "      <td>True</td>\n",
       "    </tr>\n",
       "  </tbody>\n",
       "</table>\n",
       "<p>1 rows × 29 columns</p>\n",
       "</div>"
      ]
     },
     "execution_count": 33,
     "metadata": {},
     "output_type": "execute_result"
    }
   ],
   "execution_count": 33
  },
  {
   "cell_type": "code",
   "source": [
    "import matplotlib.pyplot as plt\n",
    "import seaborn as sns\n",
    "\n",
    "# Filtering to synthetic time-series that only contain one type of anomaly\n",
    "df_h1 = df.loc[df.unique_anomaly_type == True]\n",
    "df_h1.loc[:, 'anomaly_kind'] = df_h1['anomaly_kind'].apply(lambda x: x[0]) # remove list type of column anomaly_kind since now its unique kind (one list entry)\n",
    "\n",
    "# Visualizing performance over anomaly type per algorithm family\n",
    "plt.figure(figsize=(14, 8)) # Set the figure size for better readability\n",
    "sns.boxplot(x='anomaly_kind', y='ROC_AUC', hue='algo_family', data=df_h1)\n",
    "plt.xticks(rotation=45)\n",
    "plt.title('ROC_AUC Scores by Algorithm Family and Dataset')\n",
    "plt.xlabel('Anomaly Kind')\n",
    "plt.ylabel('ROC_AUC')\n",
    "plt.legend(title='Algorithm Family', bbox_to_anchor=(1.05, 1), loc='upper left')\n",
    "\n",
    "plt.tight_layout()\n",
    "plt.show()"
   ],
   "metadata": {
    "id": "neqS9jh2A8dW",
    "colab": {
     "base_uri": "https://localhost:8080/",
     "height": 182
    },
    "executionInfo": {
     "status": "ok",
     "timestamp": 1720524101312,
     "user_tz": -120,
     "elapsed": 25,
     "user": {
      "displayName": "Dennis Huber",
      "userId": "11497794793291520998"
     }
    },
    "outputId": "6cd37b49-6ace-4de6-fe8d-8b75675e5931",
    "ExecuteTime": {
     "end_time": "2024-07-24T09:07:36.060639Z",
     "start_time": "2024-07-24T09:07:34.100880Z"
    }
   },
   "outputs": [
    {
     "data": {
      "text/plain": [
       "<Figure size 1400x800 with 1 Axes>"
      ],
      "image/png": "[encoded data removed]"
     },
     "metadata": {},
     "output_type": "display_data"
    }
   ],
   "execution_count": 36
  },
  {
   "cell_type": "markdown",
   "source": [
    "Theory for best performers based on graph:\n",
    "\n",
    "| Anomaly Kind    | Algorithm Family    |\n",
    "|-----------------|---------------------|\n",
    "| pattern         | distance            |\n",
    "| extremum        | forecasting         |\n",
    "| variance        | distance, trees     |\n",
    "| amplitude       | distance, trees     |\n",
    "| mean            | distance            |\n",
    "| platform        | distance            |\n",
    "| trend           | encoding            |\n",
    "| frequency       | distance            |\n",
    "| pattern-shift   | distance            |"
   ],
   "metadata": {
    "id": "QH2_RXz5kApA"
   }
  },
  {
   "cell_type": "markdown",
   "source": [
    "#### ANOVA\n",
    "Now we analyze the interactions and findings from the graph further with an ANOVA to check the hypothesis"
   ],
   "metadata": {
    "id": "Z6ww5AUBkjlc"
   }
  },
  {
   "cell_type": "code",
   "source": [
    "import statsmodels.api as sm\n",
    "from statsmodels.formula.api import ols\n",
    "\n",
    "# Perform two-way ANOVA\n",
    "model = ols('ROC_AUC ~ C(anomaly_kind) + C(algo_family) + C(anomaly_kind):C(algo_family)', data=df_h1).fit()\n",
    "anova_table = sm.stats.anova_lm(model, typ=2)\n",
    "\n",
    "anova_table"
   ],
   "metadata": {
    "colab": {
     "base_uri": "https://localhost:8080/",
     "height": 175
    },
    "id": "6fCbiaYQfQuL",
    "executionInfo": {
     "status": "ok",
     "timestamp": 1720524172884,
     "user_tz": -120,
     "elapsed": 1641,
     "user": {
      "displayName": "Dennis Huber",
      "userId": "11497794793291520998"
     }
    },
    "outputId": "027a9cda-6190-4427-95a2-75a093081751",
    "ExecuteTime": {
     "end_time": "2024-07-24T09:21:59.066439Z",
     "start_time": "2024-07-24T09:21:55.372733Z"
    }
   },
   "outputs": [
    {
     "data": {
      "text/plain": [
       "                                    sum_sq      df          F        PR(>F)\n",
       "C(anomaly_kind)                   7.245498     8.0  19.143921  1.681166e-28\n",
       "C(algo_family)                   23.600147     5.0  99.769398  3.123312e-99\n",
       "C(anomaly_kind):C(algo_family)   12.213155    40.0   6.453875  2.135305e-32\n",
       "Residual                        183.465814  3878.0        NaN           NaN"
      ],
      "text/html": [
       "<div>\n",
       "<style scoped>\n",
       "    .dataframe tbody tr th:only-of-type {\n",
       "        vertical-align: middle;\n",
       "    }\n",
       "\n",
       "    .dataframe tbody tr th {\n",
       "        vertical-align: top;\n",
       "    }\n",
       "\n",
       "    .dataframe thead th {\n",
       "        text-align: right;\n",
       "    }\n",
       "</style>\n",
       "<table border=\"1\" class=\"dataframe\">\n",
       "  <thead>\n",
       "    <tr style=\"text-align: right;\">\n",
       "      <th></th>\n",
       "      <th>sum_sq</th>\n",
       "      <th>df</th>\n",
       "      <th>F</th>\n",
       "      <th>PR(&gt;F)</th>\n",
       "    </tr>\n",
       "  </thead>\n",
       "  <tbody>\n",
       "    <tr>\n",
       "      <th>C(anomaly_kind)</th>\n",
       "      <td>7.245498</td>\n",
       "      <td>8.0</td>\n",
       "      <td>19.143921</td>\n",
       "      <td>1.681166e-28</td>\n",
       "    </tr>\n",
       "    <tr>\n",
       "      <th>C(algo_family)</th>\n",
       "      <td>23.600147</td>\n",
       "      <td>5.0</td>\n",
       "      <td>99.769398</td>\n",
       "      <td>3.123312e-99</td>\n",
       "    </tr>\n",
       "    <tr>\n",
       "      <th>C(anomaly_kind):C(algo_family)</th>\n",
       "      <td>12.213155</td>\n",
       "      <td>40.0</td>\n",
       "      <td>6.453875</td>\n",
       "      <td>2.135305e-32</td>\n",
       "    </tr>\n",
       "    <tr>\n",
       "      <th>Residual</th>\n",
       "      <td>183.465814</td>\n",
       "      <td>3878.0</td>\n",
       "      <td>NaN</td>\n",
       "      <td>NaN</td>\n",
       "    </tr>\n",
       "  </tbody>\n",
       "</table>\n",
       "</div>"
      ]
     },
     "execution_count": 37,
     "metadata": {},
     "output_type": "execute_result"
    }
   ],
   "execution_count": 37
  },
  {
   "cell_type": "markdown",
   "source": [
    "We conclude:\n",
    "- Both anomaly_kind and algo_family have significant main effects on the dependent variable.\n",
    "- There is a significant interaction effect between anomaly_kind and algo_family, meaning that the kind of anomaly on the dependent variable varies depending on the algorithm family."
   ],
   "metadata": {
    "id": "tl0Mly9xkngQ"
   }
  }
 ]
}
